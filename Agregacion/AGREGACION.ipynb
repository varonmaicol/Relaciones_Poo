{
 "cells": [
  {
   "cell_type": "code",
   "execution_count": null,
   "id": "625be458",
   "metadata": {},
   "outputs": [],
   "source": [
    "class Estudiante:\n",
    "    def __init__(self, nombre):\n",
    "        self.nombre = nombre\n",
    "\n",
    "    def presentarse(self):\n",
    "        print(f\"Hola, soy {self.nombre}\")\n",
    "\n",
    "class SalonDeClases:\n",
    "    def __init__(self, numero):\n",
    "        self.numero = numero\n",
    "        self.estudiantes = []  \n",
    "\n",
    "    def agregar_estudiante(self, estudiante):\n",
    "        self.estudiantes.append(estudiante)\n",
    "\n",
    "    def mostrar_estudiantes(self):\n",
    "        print(f\"Estudiantes del salón {self.numero}:\")\n",
    "        for est in self.estudiantes:\n",
    "            est.presentarse()\n",
    "\n",
    "# Uso\n",
    "juan = Estudiante(\"Juan\")\n",
    "ana = Estudiante(\"Ana\")\n",
    "\n",
    "salon101 = SalonDeClases(101)\n",
    "salon101.agregar_estudiante(juan)\n",
    "salon101.agregar_estudiante(ana)\n",
    "\n",
    "salon101.mostrar_estudiantes()"
   ]
  }
 ],
 "metadata": {
  "language_info": {
   "name": "python"
  }
 },
 "nbformat": 4,
 "nbformat_minor": 5
}

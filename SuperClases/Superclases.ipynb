{
 "cells": [
  {
   "cell_type": "code",
   "execution_count": null,
   "id": "fe8f47b3",
   "metadata": {},
   "outputs": [],
   "source": [
    "class Vehiculo:  \n",
    "    def __init__(self, marca):\n",
    "        self.marca = marca\n",
    "\n",
    "    def encender(self):\n",
    "        print(f\"{self.marca} está encendido.\")\n",
    "\n",
    "class Carro(Vehiculo):  \n",
    "    def tocar_claxon(self):\n",
    "        print(f\"{self.marca} dice: ¡Piiii!\")\n",
    "\n",
    "class Moto(Vehiculo):  \n",
    "    def hacer_caballito(self):\n",
    "        print(f\"{self.marca} está haciendo un caballito.\")\n"
   ]
  }
 ],
 "metadata": {
  "language_info": {
   "name": "python"
  }
 },
 "nbformat": 4,
 "nbformat_minor": 5
}

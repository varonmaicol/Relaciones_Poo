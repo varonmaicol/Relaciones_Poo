{
 "cells": [
  {
   "cell_type": "code",
   "execution_count": null,
   "id": "4d84a2a0",
   "metadata": {},
   "outputs": [],
   "source": [
    "class Motor:\n",
    "    def __init__(self, tipo):\n",
    "        self.tipo = tipo\n",
    "\n",
    "    def encender(self):\n",
    "        print(f\"Motor {self.tipo} encendido.\")\n",
    "\n",
    "class Carro:\n",
    "    def __init__(self, marca, tipo_motor):\n",
    "        self.marca = marca\n",
    "        self.motor = Motor(tipo_motor)  \n",
    "\n",
    "    def arrancar(self):\n",
    "        print(f\"Arrancando {self.marca}...\")\n",
    "        self.motor.encender()\n",
    "\n",
    "# Uso\n",
    "mi_carro = Carro(\"Toyota\", \"V8\")\n",
    "mi_carro.arrancar()"
   ]
  }
 ],
 "metadata": {
  "language_info": {
   "name": "python"
  }
 },
 "nbformat": 4,
 "nbformat_minor": 5
}

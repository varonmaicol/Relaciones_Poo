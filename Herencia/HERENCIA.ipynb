{
 "cells": [
  {
   "cell_type": "code",
   "execution_count": null,
   "id": "b8be09cc",
   "metadata": {},
   "outputs": [],
   "source": [
    "class Animal:\n",
    "    def __init__(self, nombre):\n",
    "        self.nombre = nombre  \n",
    "\n",
    "    def comer(self):\n",
    "        print(f\"{self.nombre} está comiendo.\")\n",
    "\n",
    "\n",
    "class Perro(Animal):\n",
    "    def ladrar(self):\n",
    "        print(f\"{self.nombre} dice: ¡Guau!\")\n",
    "\n",
    "\n",
    "class Gato(Animal):\n",
    "    def maullar(self):\n",
    "        print(f\"{self.nombre} dice: ¡Miau!\")\n",
    "\n",
    "mi_perro = Perro(\"Firulais\")\n",
    "mi_gato = Gato(\"Mish\")\n",
    "\n",
    "\n",
    "mi_perro.comer()  \n",
    "mi_gato.comer()  \n",
    "\n",
    "\n",
    "mi_perro.ladrar()  \n",
    "mi_gato.maullar()  "
   ]
  }
 ],
 "metadata": {
  "language_info": {
   "name": "python"
  }
 },
 "nbformat": 4,
 "nbformat_minor": 5
}

{
 "cells": [
  {
   "cell_type": "code",
   "execution_count": null,
   "id": "68b49d24",
   "metadata": {},
   "outputs": [],
   "source": [
    "class Animal:\n",
    "    def hacer_sonido(self):\n",
    "        pass  \n",
    "\n",
    "class Perro(Animal):\n",
    "    def hacer_sonido(self):\n",
    "        print(\"¡Guau!\")\n",
    "\n",
    "class Gato(Animal):\n",
    "    def hacer_sonido(self):\n",
    "        print(\"¡Miau!\")\n",
    "\n",
    "animales = [Perro(), Gato()]\n",
    "\n",
    "for animal in animales:\n",
    "    animal.hacer_sonido()  \n"
   ]
  }
 ],
 "metadata": {
  "language_info": {
   "name": "python"
  }
 },
 "nbformat": 4,
 "nbformat_minor": 5
}

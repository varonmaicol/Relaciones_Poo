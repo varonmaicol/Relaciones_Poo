{
 "cells": [
  {
   "cell_type": "code",
   "execution_count": null,
   "id": "48afb5e4",
   "metadata": {},
   "outputs": [],
   "source": [
    "class Profesor:\n",
    "    def __init__(self, nombre):\n",
    "        self.nombre = nombre\n",
    "\n",
    "    def ensenar(self):\n",
    "        print(f\"{self.nombre} está enseñando.\")\n",
    "\n",
    "class Estudiante:\n",
    "    def __init__(self, nombre):\n",
    "        self.nombre = nombre\n",
    "        self.profesor = None\n",
    "\n",
    "    def asignar_profesor(self, profesor):\n",
    "        self.profesor = profesor\n",
    "\n",
    "    def estudiar(self):\n",
    "        if self.profesor:\n",
    "            print(f\"{self.nombre} estudia con {self.profesor.nombre}\")\n",
    "        else:\n",
    "            print(f\"{self.nombre} estudia por su cuenta.\")"
   ]
  }
 ],
 "metadata": {
  "language_info": {
   "name": "python"
  }
 },
 "nbformat": 4,
 "nbformat_minor": 5
}
